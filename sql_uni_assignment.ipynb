{
 "cells": [
  {
   "cell_type": "markdown",
   "metadata": {},
   "source": [
    "## Assignment 3 – Database Queries\n",
    "### Introduction\n",
    "In this assignment you will write some simple SQL database queries, written in Python, and using sqlite. \n",
    "\n",
    "Ensure you have read the entire description on the course page before starting this notebook file.\n",
    "\n",
    "### Testing\n",
    "Each of the tasks below has a sample test to help you develop your solution. You are encouraged to write additional tests yourself. Your assignment will be graded based on hidden tests for each task.\n",
    "\n",
    "Some of the tasks modify the database, and the provided tests have been written in a way that assumes the entire notebook has been run in order. Always re-run the entire notebook when you test your code, and you may wish to restart the kernel too.\n",
    "\n",
    "The hidden tests will always construct the database afresh with correct data, meaning that even if you make a mistake in, say, task 4, you can still get full marks for tasks 5 onward. Note that the provided tests may *not* work in these conditions.\n",
    "\n",
    "### Utility functions\n",
    "The functions below are used to provide a simple SQL interface with sqlite. You should look at what they do but should not need to change them."
   ]
  },
  {
   "cell_type": "code",
   "execution_count": null,
   "metadata": {},
   "outputs": [],
   "source": [
    "# This code wraps up the database access in a single function.\n",
    "import sqlite3\n",
    "\n",
    "# access_database requires the name of a sqlite3 database file, the query, and its parameters.\n",
    "# It does not return the result of the query.\n",
    "def access_database(dbfile, query, parameters=()):\n",
    "    connect = sqlite3.connect(dbfile)\n",
    "    cursor = connect.cursor()\n",
    "    cursor.execute(query, parameters)\n",
    "    connect.commit()\n",
    "    connect.close()\n",
    "\n",
    "# access_database requires the name of a sqlite3 database file, the query, and its parameters.\n",
    "# It returns the result of the query\n",
    "def access_database_with_result(dbfile, query, parameters=()):\n",
    "    connect = sqlite3.connect(dbfile)\n",
    "    cursor = connect.cursor()\n",
    "    rows = cursor.execute(query, parameters).fetchall()\n",
    "    connect.commit()\n",
    "    connect.close()\n",
    "    return rows"
   ]
  },
  {
   "cell_type": "markdown",
   "metadata": {},
   "source": [
    "### Database design \n",
    "Here is a list of tables, along with detailed explanations of the columns in each table.\n",
    "\n",
    "##### Units\n",
    "This table holds the basic detail of a unit.\n",
    "\n",
    "* `UnitID` A unique integer identifier used to reference a unit.\n",
    "* `Name` The string name of the unit.\n",
    "* `Level` The educational level of the unit.\n",
    "* `Semester` The semester in which the unit occurs, where 0 indicates the whole year.\n",
    "\n",
    "##### Students\n",
    "This table holds the basic detail of a student.\n",
    "\n",
    "* `StudentID` A unique integer identifier used to reference a student.\n",
    "* `Name` A string name of the student.\n",
    "\n",
    "##### Enrolled\n",
    "This table indicates which students are enrolled on a unit and in which year. Note that it uses the ID values of the student and unit to create the relationship.\n",
    "\n",
    "* `StudentID` The ID of a student.\n",
    "* `UnitID` The ID of a unit.\n",
    "* `Year` An integer indicate the year the student was enrolled in the unit.\n",
    "\n",
    "##### Assessments\n",
    "An assessment is an piece of work created by the lecturer for a unit, in a given year. The weightings for a unit in a given year are expected to sum to 100%\n",
    "\n",
    "* `AssessmentID` A unique integer identifier used to reference an assignment.\n",
    "* `UnitID` Which unit this assessment belongs to.\n",
    "* `Year` The integer year that this assignment relates to.\n",
    "* `Name` A string name for the assessment.\n",
    "* `Mark` The integer maximum mark available for the assignment.\n",
    "* `Weighting` The integer weighting out of 100 for this assignment.\n",
    "* `Deadline` The deadline set for this assignment.\n",
    "\n",
    "##### Assignments\n",
    "An assignment is the record of the assessment for an individual student.\n",
    "\n",
    "* `AssignmentID` A unique integer identifier used to reference an assignment instance.\n",
    "* `StudentID` The student this instance relates to.\n",
    "* `AssessmentID` The assessment this instance relates to.\n",
    "* `Deadline` The deadline for this student.\n",
    "* `Submitted` The date on which this assessment was submitted.\n",
    "* `Mark` The mark allocated to this piece of work.\n",
    "* `Marked` A flag indicating if this piece of work has been marked. 0:no, 1: yes.\n",
    "\n",
    "### Database setup\n",
    "The following function initialises (or reinitialises) the database, adding the tables as specified above, and inserting some sample data.\n",
    "\n",
    "You should not change the code below since the hidden tests will use the same database structure, and modifications to the code below may not propagate to the hidden tests."
   ]
  },
  {
   "cell_type": "code",
   "execution_count": null,
   "metadata": {},
   "outputs": [],
   "source": [
    "# Set up the tables\n",
    "\n",
    "def setup_assessment_tables(dbfile):\n",
    "    # Get rid of any existing data\n",
    "    access_database(dbfile, \"DROP TABLE IF EXISTS Units\")\n",
    "    access_database(dbfile, \"DROP TABLE IF EXISTS Students\")\n",
    "    access_database(dbfile, \"DROP TABLE IF EXISTS Enrolled\")\n",
    "    access_database(dbfile, \"DROP TABLE IF EXISTS Assessments\")\n",
    "    access_database(dbfile, \"DROP TABLE IF EXISTS Assignments\")\n",
    "\n",
    "    # Freshly setup tables\n",
    "    access_database(dbfile, \"CREATE TABLE Units (UnitID INT, Name TEXT, Level INT, Semester INT)\")\n",
    "    access_database(dbfile, \"CREATE TABLE Students (StudentID INT, Name TEXT)\")\n",
    "    access_database(dbfile, \"CREATE TABLE Enrolled (StudentID INT, UnitID INT, Year INT)\")\n",
    "    access_database(dbfile, \"CREATE TABLE Assessments (AssessmentID INT, UnitID INT, Year INT, Name TEXT, Mark INT, Weighting INT, Deadline DATE)\")\n",
    "    access_database(dbfile, \"CREATE TABLE Assignments (AssignmentID INTEGER PRIMARY KEY AUTOINCREMENT, StudentID INT, AssessmentID INT, Deadline DATE, Submitted DATE, Mark INT, Marked INT)\")\n",
    "\n",
    "    # Populate the tables with some initial data\n",
    "    access_database(dbfile, \"INSERT INTO Units VALUES (100,'CM60100', 6, 1), (101,'CM60101', 6, 1), (102,'XX60200', 6, 1)\")\n",
    "    access_database(dbfile, \"INSERT INTO Students VALUES (1001,'Rod'),(1002,'Jane'),(1003,'Freddy')\")\n",
    "    access_database(dbfile, \"INSERT INTO Enrolled VALUES (1001,100,2020), (1001,101,2020), (1002,100,2019), (1002,101,2020), (1002,102,2019), (1003, 101, 2019), (1003, 102, 2019)\")\n",
    "    access_database(dbfile, \"INSERT INTO Assessments VALUES (1,100,2020,'Exam',100,75,'2021-1-25 20:00'), (2,100,2020,'Coursework',100,25,'2020-12-25 20:00'), (3,101,2020,'Coursework',50,100,'2020-12-15 20:00'), (4,102,2019,'Coursework',50,100,'2019-12-15 20:00')\")"
   ]
  },
  {
   "cell_type": "code",
   "execution_count": null,
   "metadata": {
    "deletable": false,
    "editable": false,
    "nbgrader": {
     "cell_type": "code",
     "checksum": "657d6651cf7ea62a8c7e1fef7507c01c",
     "grade": true,
     "grade_id": "cell-035344fd5a4b13c8",
     "locked": true,
     "points": 0,
     "schema_version": 3,
     "solution": false,
     "task": false
    }
   },
   "outputs": [],
   "source": [
    "# To test your code, always re-run the entire notebook (since tests may change the database)\n",
    "setup_assessment_tables(\"database.db\")"
   ]
  },
  {
   "cell_type": "markdown",
   "metadata": {},
   "source": [
    "### Tasks\n",
    "In each of the following tasks, you will need to write one or more SQL queries to complete a Python function. \n",
    "\n",
    "#### Important: Security note\n",
    "When you construct SQL queries within code, your first thought might be to do something like this\n",
    "\n",
    "```python\n",
    "def student_details(studentid):\n",
    "    query = \"SELECT * FROM Students WHERE StudentID == \" + str(studentid) + \";\"\n",
    "    db.execute(query)\n",
    "    ...\n",
    "```\n",
    "\n",
    "But this leaves your code susceptible to an SQL injection attack. Rather than a valid ID, a user of your function could insert a string into your function such as [`\"1; DROP TABLE Students;\"`](https://xkcd.com/327/), and you would unwittingly run the query provided – in this case, deleting the Students table. You can read more [online](https://en.wikipedia.org/wiki/SQL_injection).\n",
    "\n",
    "This is why SQLite provides a method for *parameter substitution*. In the query you write single question mark `?`, and then provide a *tuple* of values to the `execute` function, like so:\n",
    "\n",
    "```python\n",
    "def student_details(studentid):\n",
    "    query = \"SELECT * FROM Students WHERE StudentID == ?;\"\n",
    "    db.execute(query, (studentid,))\n",
    "    ...\n",
    "```\n",
    "\n",
    "The helper functions `access_database` and `access_database_with_result` mirror this, and this is demonstrated below. It is a good habit to get into the practice of providing parameters this way. \n",
    "\n",
    "#### Example\n",
    "Here is an example which demonstrates a function that returns all student details for a given student ID, as above."
   ]
  },
  {
   "cell_type": "code",
   "execution_count": null,
   "metadata": {},
   "outputs": [],
   "source": [
    "def student_details(database, studentid):\n",
    "    row = access_database_with_result(database, \"SELECT * FROM Students WHERE StudentID == ?;\", (studentid,))\n",
    "    return row\n",
    "\n",
    "print(student_details(\"database.db\", 1001))"
   ]
  },
  {
   "cell_type": "markdown",
   "metadata": {},
   "source": [
    "#### Task 1 (1 Mark)\n",
    "Provide a function that indicates the units a student is taking in a given year. \n",
    "\n",
    "It should return a list of the units being taken in increasing order of UnitID. e.g. `[101,104,105]`"
   ]
  },
  {
   "cell_type": "code",
   "execution_count": null,
   "metadata": {
    "deletable": false,
    "nbgrader": {
     "cell_type": "code",
     "checksum": "52eef5b4fafee11ce1ac2af1fdce00e0",
     "grade": false,
     "grade_id": "cell-85f27fcbbc8fce2e",
     "locked": false,
     "schema_version": 3,
     "solution": true,
     "task": false
    }
   },
   "outputs": [],
   "source": [
    "def student_units(database, studentid, year):\n",
    "    row = access_database_with_result(database,\"SELECT ...\")\n",
    "    l = []\n",
    "    for u in row:\n",
    "        l.append(u[0])\n",
    "    return l"
   ]
  },
  {
   "cell_type": "code",
   "execution_count": null,
   "metadata": {
    "deletable": false,
    "editable": false,
    "nbgrader": {
     "cell_type": "code",
     "checksum": "69ac8880e425d34a8cf393ec9a0afc05",
     "grade": true,
     "grade_id": "cell-7d60d9815ac1030d",
     "locked": true,
     "points": 1,
     "schema_version": 3,
     "solution": false,
     "task": false
    }
   },
   "outputs": [],
   "source": [
    "result = student_units(\"database.db\",1001,2020)\n",
    "assert result == [100, 101]"
   ]
  },
  {
   "cell_type": "markdown",
   "metadata": {},
   "source": [
    "#### Task 2 (1 Mark): \n",
    "Provide a function that indicates the students that are enrolled on a unit.\n",
    "\n",
    "It should return a list of tuples of StudentID and Name ordered by StudentID. e.g. `[(110,'Zipppy'),(111,'Bungle')]`\n"
   ]
  },
  {
   "cell_type": "code",
   "execution_count": null,
   "metadata": {
    "deletable": false,
    "nbgrader": {
     "cell_type": "code",
     "checksum": "99e70cc63bfdea4fa5982e6f42c31b98",
     "grade": false,
     "grade_id": "cell-4255024b30a65f1b",
     "locked": false,
     "schema_version": 3,
     "solution": true,
     "task": false
    }
   },
   "outputs": [],
   "source": [
    "def unit_students(database, unitid, year):\n",
    "    row = access_database_with_result(database,\"SELECT ...\")\n",
    "    return row "
   ]
  },
  {
   "cell_type": "code",
   "execution_count": null,
   "metadata": {
    "deletable": false,
    "editable": false,
    "nbgrader": {
     "cell_type": "code",
     "checksum": "aef5a12614c68db40dc98e89897edbfe",
     "grade": true,
     "grade_id": "cell-91c51f098f0457c4",
     "locked": true,
     "points": 1,
     "schema_version": 3,
     "solution": false,
     "task": false
    }
   },
   "outputs": [],
   "source": [
    "result = unit_students(\"database.db\",101,2020)\n",
    "assert result == [(1001, 'Rod'), (1002, 'Jane')]"
   ]
  },
  {
   "cell_type": "markdown",
   "metadata": {},
   "source": [
    "#### Task 3 (1 Marks): \n",
    "Provide a function that indicates how many students are taking each unit in a given year.\n",
    "\n",
    "It should return a list of tuples of UnitID, UnitName and Count ordered by UnitID. e.g. `[(1010,'Machine Learning',50), (1020,'Dissertaton',37)]`"
   ]
  },
  {
   "cell_type": "code",
   "execution_count": null,
   "metadata": {
    "deletable": false,
    "nbgrader": {
     "cell_type": "code",
     "checksum": "daff01ea2f0d25dae49cffdb65d9f6b0",
     "grade": false,
     "grade_id": "cell-104603e90ed54294",
     "locked": false,
     "schema_version": 3,
     "solution": true,
     "task": false
    }
   },
   "outputs": [],
   "source": [
    "def unit_numbers(database, year):\n",
    "    row = access_database_with_result(database,\"SELECT ...\")\n",
    "    return row\n"
   ]
  },
  {
   "cell_type": "code",
   "execution_count": null,
   "metadata": {
    "deletable": false,
    "editable": false,
    "nbgrader": {
     "cell_type": "code",
     "checksum": "41501234ed522e3ad144784050a21220",
     "grade": true,
     "grade_id": "cell-4441200c26c08924",
     "locked": true,
     "points": 1,
     "schema_version": 3,
     "solution": false,
     "task": false
    }
   },
   "outputs": [],
   "source": [
    "result = unit_numbers(\"database.db\",2020)\n",
    "assert result == [(100, 'CM60100', 1), (101, 'CM60101', 2)]"
   ]
  },
  {
   "cell_type": "markdown",
   "metadata": {},
   "source": [
    "#### Task 4 (2 Marks): \n",
    "Provide a function that uses the enrolments and assessments tables to fully populate the assignments table.\n",
    "\n",
    "All assignments for each student in a given year should be created. Only the assignments a student should be undertaking should be created."
   ]
  },
  {
   "cell_type": "code",
   "execution_count": null,
   "metadata": {
    "deletable": false,
    "nbgrader": {
     "cell_type": "code",
     "checksum": "5fb958e069ccb440ca133344089e4c91",
     "grade": false,
     "grade_id": "cell-87c00f6c218512f2",
     "locked": false,
     "schema_version": 3,
     "solution": true,
     "task": false
    }
   },
   "outputs": [],
   "source": [
    "def create_assignments(database, year):\n",
    "    access_database(database,\"INSERT ...\")"
   ]
  },
  {
   "cell_type": "code",
   "execution_count": null,
   "metadata": {
    "deletable": false,
    "editable": false,
    "nbgrader": {
     "cell_type": "code",
     "checksum": "51060744805c50079e567efff60e3d4d",
     "grade": true,
     "grade_id": "cell-2adfe6d0fa6fc67f",
     "locked": true,
     "points": 2,
     "schema_version": 3,
     "solution": false,
     "task": false
    }
   },
   "outputs": [],
   "source": [
    "create_assignments(\"database.db\",2020)\n",
    "result = access_database_with_result(\"database.db\",\"SELECT * FROM Assignments;\")\n",
    "assert result == [(1, 1001, 1, '2021-1-25 20:00', None, None, 0), \n",
    "                  (2, 1001, 2, '2020-12-25 20:00', None, None, 0), \n",
    "                  (3, 1001, 3, '2020-12-15 20:00', None, None, 0), \n",
    "                  (4, 1002, 3, '2020-12-15 20:00', None, None, 0)]"
   ]
  },
  {
   "cell_type": "markdown",
   "metadata": {},
   "source": [
    "#### Task 5 (1 Mark): \n",
    "Update the mark of an assignment, given the StudentID, AssessmentID and Mark.\n",
    "\n",
    "It should update the Marked flag and the Mark itself."
   ]
  },
  {
   "cell_type": "code",
   "execution_count": null,
   "metadata": {
    "deletable": false,
    "nbgrader": {
     "cell_type": "code",
     "checksum": "5e26277aad8f1a59b7ba160fe57b6c2d",
     "grade": false,
     "grade_id": "cell-4ef52637fecaf47f",
     "locked": false,
     "schema_version": 3,
     "solution": true,
     "task": false
    }
   },
   "outputs": [],
   "source": [
    "def mark_assignment(database, studentid, assessmentid, mark):\n",
    "    access_database(database,\"UPDATE ...\")"
   ]
  },
  {
   "cell_type": "code",
   "execution_count": null,
   "metadata": {
    "deletable": false,
    "editable": false,
    "nbgrader": {
     "cell_type": "code",
     "checksum": "e6b2270f17af9cb983a143bcc96ae19c",
     "grade": true,
     "grade_id": "cell-a85a4d1659c4ea60",
     "locked": true,
     "points": 1,
     "schema_version": 3,
     "solution": false,
     "task": false
    }
   },
   "outputs": [],
   "source": [
    "mark_assignment(\"database.db\", 1001, 1, 57);\n",
    "mark_assignment(\"database.db\", 1001, 2, 11);\n",
    "mark_assignment(\"database.db\", 1001, 3, 45);\n",
    "mark_assignment(\"database.db\", 1002, 3, 40);\n",
    "result = access_database_with_result(\"database.db\",\"SELECT * FROM Assignments;\")\n",
    "assert result == [(1, 1001, 1, '2021-1-25 20:00', None, 57, 1), \n",
    "                  (2, 1001, 2, '2020-12-25 20:00', None, 11, 1), \n",
    "                  (3, 1001, 3, '2020-12-15 20:00', None, 45, 1), \n",
    "                  (4, 1002, 3, '2020-12-15 20:00', None, 40, 1)]"
   ]
  },
  {
   "cell_type": "markdown",
   "metadata": {},
   "source": [
    "#### Task 6 (2 Marks): \n",
    "Compute the overall mark for all students taking a specified unit in a given year."
   ]
  },
  {
   "cell_type": "code",
   "execution_count": null,
   "metadata": {
    "deletable": false,
    "nbgrader": {
     "cell_type": "code",
     "checksum": "98067015a64c043277a4e2c565d37cd9",
     "grade": false,
     "grade_id": "cell-655b8e3dc3e5c901",
     "locked": false,
     "schema_version": 3,
     "solution": true,
     "task": false
    }
   },
   "outputs": [],
   "source": [
    "def unit_marks(database, unitid, year):\n",
    "    rows = access_database_with_result(database,\"SELECT ...\")\n",
    "    return rows"
   ]
  },
  {
   "cell_type": "code",
   "execution_count": null,
   "metadata": {
    "deletable": false,
    "editable": false,
    "nbgrader": {
     "cell_type": "code",
     "checksum": "8a878d487557f214e287a8ff31038731",
     "grade": true,
     "grade_id": "cell-bef9fc8073280721",
     "locked": true,
     "points": 2,
     "schema_version": 3,
     "solution": false,
     "task": false
    }
   },
   "outputs": [],
   "source": [
    "result = unit_marks(\"database.db\", 101, 2020)\n",
    "assert result == [(1001, 90.0), (1002, 80.0)]"
   ]
  },
  {
   "cell_type": "markdown",
   "metadata": {},
   "source": [
    "#### Task 7 (2 Marks): \n",
    "Compute the overall marks for each unit taken by a given student across all years."
   ]
  },
  {
   "cell_type": "code",
   "execution_count": null,
   "metadata": {
    "deletable": false,
    "nbgrader": {
     "cell_type": "code",
     "checksum": "a98ef86ab411cb608e1eb2da6b96bc0f",
     "grade": false,
     "grade_id": "cell-389593a43a03e14b",
     "locked": false,
     "schema_version": 3,
     "solution": true,
     "task": false
    }
   },
   "outputs": [],
   "source": [
    "def student_marks(database, studentid):\n",
    "    rows=access_database_with_result(database,\"SELECT ...\");\n",
    "    return rows"
   ]
  },
  {
   "cell_type": "code",
   "execution_count": null,
   "metadata": {
    "deletable": false,
    "editable": false,
    "nbgrader": {
     "cell_type": "code",
     "checksum": "2fe92b3a7e005000dac9496bc1c7746b",
     "grade": true,
     "grade_id": "cell-a515f5d5bb42466b",
     "locked": true,
     "points": 2,
     "schema_version": 3,
     "solution": false,
     "task": false
    }
   },
   "outputs": [],
   "source": [
    "result = student_marks(\"database.db\", 1001)\n",
    "assert result == [(100, 2020, 45.5), (101, 2020, 90.0)]"
   ]
  },
  {
   "cell_type": "code",
   "execution_count": null,
   "metadata": {
    "deletable": false,
    "editable": false,
    "nbgrader": {
     "cell_type": "code",
     "checksum": "c84b1c9d74b8d8e0cc5f0bbd3416c7f8",
     "grade": true,
     "grade_id": "cell-e7d619b3d55d3850",
     "locked": true,
     "points": 0,
     "schema_version": 3,
     "solution": false,
     "task": false
    }
   },
   "outputs": [],
   "source": [
    "# This is a test cell, do not delete or edit."
   ]
  }
 ],
 "metadata": {
  "kernelspec": {
   "display_name": "Python 3 (ipykernel)",
   "language": "python",
   "name": "python3"
  },
  "language_info": {
   "codemirror_mode": {
    "name": "ipython",
    "version": 3
   },
   "file_extension": ".py",
   "mimetype": "text/x-python",
   "name": "python",
   "nbconvert_exporter": "python",
   "pygments_lexer": "ipython3",
   "version": "3.8.12"
  }
 },
 "nbformat": 4,
 "nbformat_minor": 2
}
